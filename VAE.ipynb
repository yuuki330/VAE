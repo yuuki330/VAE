{
  "nbformat": 4,
  "nbformat_minor": 0,
  "metadata": {
    "colab": {
      "provenance": [],
      "authorship_tag": "ABX9TyPckJKiby+cuyAE8EpjVTtK",
      "include_colab_link": true
    },
    "kernelspec": {
      "name": "python3",
      "display_name": "Python 3"
    },
    "language_info": {
      "name": "python"
    }
  },
  "cells": [
    {
      "cell_type": "markdown",
      "metadata": {
        "id": "view-in-github",
        "colab_type": "text"
      },
      "source": [
        "<a href=\"https://colab.research.google.com/github/yuuki330/VAE/blob/main/VAE.ipynb\" target=\"_parent\"><img src=\"https://colab.research.google.com/assets/colab-badge.svg\" alt=\"Open In Colab\"/></a>"
      ]
    },
    {
      "cell_type": "markdown",
      "source": [
        "# 確率分布とベイズの定理の基礎\n",
        "## 1.1 確率分布の基本\n",
        "- 確率分布とは、「ある出来事が起こる確率を数値としてあらわしたもの」\n",
        "- 連続分布と離散分布がある\n",
        "\n",
        "## 1.2 条件付き確率とベイズの定理\n",
        "条件付き確率 $P(A|B)$ とは？\n",
        "-  $P(A|B)$ は、「$B$ が起こったという条件の下で $A$ が起こる確率」\n",
        "\n",
        "ベイズの定理とは？\n",
        "- ベイズの定理は、条件付き確率を逆にするための公式\n",
        "$$\n",
        "P(A|B)=\\frac{P(B|A)\\cdot P(A)}{P(B)}\n",
        "$$\n",
        "\n",
        "直感的な例\n",
        "\n",
        "医者の診断ケース\n",
        "1. $A$ : あなたが病気である\n",
        "2. $B$ : あなたが陽性の検査結果を得た\n",
        "\n",
        "医者は、あなたが病気である確率 $P(A|B)$ を知りたい\n",
        "\n",
        "でも直接は分からない\n",
        "\n",
        "そこで、代わりに次の情報を用いる\n",
        "- $P(B|A)$ : 病気の人が陽性になる確率\n",
        "- $P(A)$ : 病気である人の割合\n",
        "- $P(B)$ : 全体で陽性になる確率\n",
        "\n",
        "これで $P(A|B)$ を計算できる"
      ],
      "metadata": {
        "id": "oBmzY6QbwuGk"
      }
    },
    {
      "cell_type": "markdown",
      "source": [
        "# VAEの損失関数の導出\n",
        "## 目的\n",
        "1. 再構成の精度を上げる\n",
        "2. 潜在変数の分布を正規分布に近づける\n",
        "\n",
        "## それぞれの損失\n",
        "1. 再構成誤差（入力データと復元データの差）\n",
        "2. 正則化項（KLダイバージェンス）\n",
        "\n",
        "## 変分推論\n",
        "真の事後分布 $p(z|x)$ を直接求めるのが難しい時に、近似分布 $q(x|z)$ を用いてうまく近づける\n",
        "\n",
        "Q. $p(z|x)$ を求めるのはなぜ難しい？\n",
        "A. 積分が難解すぎるから\n",
        "\n",
        "## ELBOの導出\n",
        "ELBOは、観測データ $x$ の対数尤度 $\\log p(x)$ の下限を与える\n",
        "### 1. 対数尤度の書き換え\n",
        "観測データ $x$ の尤度 $p(x)$ の最大化は以下のように表される\n",
        "$$\n",
        "\\log p(x)=log\\int p(x,z)dz\n",
        "$$\n",
        "ここで、 $z$ は潜在変数である.\n",
        "\n",
        "このままの積分は難しいため、変分分布 $q(z|x)$ を挿入して書き換える\n",
        "$$\n",
        "\\log p(x)=\\log \\int q(z|x)\\frac{p(x,z)}{q(z|x)} dz\n",
        "$$\n",
        "\n",
        "この形にすると、Jensenの不等式（凸関数の期待値は期待値の関数よりも大きい）を使って、次のように下限をとることができる\n",
        "\n",
        "$$\n",
        "\\log p(x) \\geq \\int q(z|x) \\log \\frac{p(x,z)}{q(z|x)} dz\n",
        "$$\n",
        "\n",
        "これがELBOである\n",
        "\n",
        "### 2. ELBOの分解\n",
        "次に、ELBOを2つの部分へ分解する"
      ],
      "metadata": {
        "id": "u4cHkH0npgFJ"
      }
    },
    {
      "cell_type": "code",
      "execution_count": null,
      "metadata": {
        "id": "Pd8zJyEEpA_D"
      },
      "outputs": [],
      "source": []
    },
    {
      "cell_type": "markdown",
      "source": [],
      "metadata": {
        "id": "vTGHaxZ9wtO_"
      }
    }
  ]
}
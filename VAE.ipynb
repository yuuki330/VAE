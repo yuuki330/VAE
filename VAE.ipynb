{
  "nbformat": 4,
  "nbformat_minor": 0,
  "metadata": {
    "colab": {
      "provenance": [],
      "authorship_tag": "ABX9TyNjaZMA4/38H9rVK01ETYmX",
      "include_colab_link": true
    },
    "kernelspec": {
      "name": "python3",
      "display_name": "Python 3"
    },
    "language_info": {
      "name": "python"
    }
  },
  "cells": [
    {
      "cell_type": "markdown",
      "metadata": {
        "id": "view-in-github",
        "colab_type": "text"
      },
      "source": [
        "<a href=\"https://colab.research.google.com/github/yuuki330/VAE/blob/main/VAE.ipynb\" target=\"_parent\"><img src=\"https://colab.research.google.com/assets/colab-badge.svg\" alt=\"Open In Colab\"/></a>"
      ]
    },
    {
      "cell_type": "markdown",
      "source": [
        "# VAEの損失関数の導出\n",
        "## 目的\n",
        "1. 再構成の精度を上げる\n",
        "2. 潜在変数の分布を正規分布に近づける\n",
        "\n",
        "## それぞれの損失\n",
        "1. 再構成誤差（入力データと復元データの差）\n",
        "2. 正則化項（KLダイバージェンス）\n",
        "\n",
        "## 変分推論\n",
        "真の事後分布 $p(z|x)$ を直接求めるのが難しい時に、近似分布 $q(x|z)$ を用いてうまく近づける\n",
        "\n",
        "Q. $p(z|x)$ を求めるのはなぜ難しい？\n",
        "A. 積分が難解すぎるから\n",
        "\n",
        "## ELBOの導出\n",
        "ELBOは、観測データ $x$ の対数尤度 $\\log p(x)$ の下限を与える\n",
        "### 1. 対数尤度の書き換え\n",
        "観測データ $x$ の尤度 $p(x)$ の最大化は以下のように表される\n",
        "$$\n",
        "\\log p(x)=log\\int p(x,z)dz\n",
        "$$\n",
        "ここで、 $z$ は潜在変数である.\n",
        "\n",
        "このままの積分は難しいため、変分分布 $q(z|x)$ を挿入して書き換える\n",
        "$$\n",
        "\\log p(x)=\\log \\int q(z|x)\\frac{p(x,z)}{q(z|x)} dz\n",
        "$$\n",
        "\n",
        "この形にすると、Jensenの不等式（凸関数の期待値は期待値の関数よりも大きい）を使って、次のように下限をとることができる\n",
        "\n",
        "$$\n",
        "\\log p(x) \\geq \\int q(z|x) \\log \\frac{p(x,z)}{q(z|x)} dz\n",
        "$$\n",
        "\n",
        "これがELBOである\n",
        "\n",
        "### 2. ELBOの分解\n",
        "次に、ELBOを2つの部分へ分解する"
      ],
      "metadata": {
        "id": "u4cHkH0npgFJ"
      }
    },
    {
      "cell_type": "code",
      "execution_count": null,
      "metadata": {
        "id": "Pd8zJyEEpA_D"
      },
      "outputs": [],
      "source": []
    }
  ]
}